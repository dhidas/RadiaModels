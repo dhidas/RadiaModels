{
 "cells": [
  {
   "cell_type": "code",
   "execution_count": null,
   "id": "21f23abf-173a-410e-a27d-f2c8657a70c3",
   "metadata": {},
   "outputs": [],
   "source": [
    "%matplotlib inline\n",
    "import ipywidgets\n",
    "from jupyter_rs_radia import radia_viewer\n",
    "\n",
    "import radia as rad\n",
    "import radiamodels.epu as re\n",
    "\n",
    "import numpy as np\n",
    "import matplotlib.pyplot as plt"
   ]
  },
  {
   "cell_type": "code",
   "execution_count": null,
   "id": "d38a6d82-5344-4962-9d91-0934d0c3f30a",
   "metadata": {},
   "outputs": [],
   "source": [
    "# define radia viewer\n",
    "rv = radia_viewer.RadiaViewer()"
   ]
  },
  {
   "cell_type": "code",
   "execution_count": null,
   "id": "9b608adc-c3f7-4381-9e98-6ea5d2f7c302",
   "metadata": {},
   "outputs": [],
   "source": [
    "und = re.get_epu()\n"
   ]
  },
  {
   "cell_type": "code",
   "execution_count": null,
   "id": "6d7b68b2-ea93-4dfa-a8ec-631fdaf908db",
   "metadata": {},
   "outputs": [],
   "source": [
    "rv.add_geometry('und', und)\n",
    "rv.display()"
   ]
  },
  {
   "cell_type": "code",
   "execution_count": null,
   "id": "32821556-c302-4a20-9ff0-3452fd19bc3e",
   "metadata": {},
   "outputs": [],
   "source": [
    "rad.Solve(und, 0.0003, 2000)"
   ]
  },
  {
   "cell_type": "code",
   "execution_count": null,
   "id": "fee6141d-d337-405a-b07e-80a64327948c",
   "metadata": {},
   "outputs": [],
   "source": [
    "Z = np.linspace(-500, 500, 3001)\n",
    "BY = [rad.Fld(und, 'by', [0, 0, z]) for z in Z]\n",
    "BX = [rad.Fld(und, 'bx', [0, 0, z]) for z in Z]"
   ]
  },
  {
   "cell_type": "code",
   "execution_count": null,
   "id": "80f78c55-43fa-42fe-81f8-7663e19cc7ae",
   "metadata": {},
   "outputs": [],
   "source": [
    "rad.FldInt(und, 'inf', 'iby', [0, 0, -1000], [0, 0, +1000])"
   ]
  },
  {
   "cell_type": "code",
   "execution_count": null,
   "id": "2d3d4d12-7ed7-4008-b60c-a84cfab12429",
   "metadata": {},
   "outputs": [],
   "source": [
    "plt.figure()\n",
    "plt.plot(Z, BX)\n",
    "plt.plot(Z, BY)\n",
    "plt.xlabel('Z (mm)')\n",
    "plt.ylabel('Magnetic Field (T)')\n",
    "# plt.savefig('myfield.pdf')\n",
    "plt.show()"
   ]
  },
  {
   "cell_type": "code",
   "execution_count": null,
   "id": "1fd00e82-30c9-446b-acf9-d26d3190d95e",
   "metadata": {},
   "outputs": [],
   "source": []
  }
 ],
 "metadata": {
  "kernelspec": {
   "display_name": "Python 3.9.1 (Default)",
   "language": "python",
   "name": "python3"
  },
  "language_info": {
   "codemirror_mode": {
    "name": "ipython",
    "version": 3
   },
   "file_extension": ".py",
   "mimetype": "text/x-python",
   "name": "python",
   "nbconvert_exporter": "python",
   "pygments_lexer": "ipython3",
   "version": "3.9.1"
  }
 },
 "nbformat": 4,
 "nbformat_minor": 5
}
