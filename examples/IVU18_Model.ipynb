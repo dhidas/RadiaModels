{
 "cells": [
  {
   "cell_type": "code",
   "execution_count": null,
   "id": "21f23abf-173a-410e-a27d-f2c8657a70c3",
   "metadata": {},
   "outputs": [],
   "source": [
    "%matplotlib inline\n",
    "import ipywidgets\n",
    "from jupyter_rs_radia import radia_viewer\n",
    "\n",
    "import radia as rad\n",
    "import radiamodels.ivu as ri\n",
    "import radiamodels.util as ru\n",
    "from ivu18_defaults import ivu18args\n",
    "\n",
    "import numpy as np\n",
    "import matplotlib.pyplot as plt\n",
    "import time\n",
    "import pickle\n",
    "import os.path\n",
    "import copy"
   ]
  },
  {
   "cell_type": "code",
   "execution_count": null,
   "id": "d38a6d82-5344-4962-9d91-0934d0c3f30a",
   "metadata": {},
   "outputs": [],
   "source": [
    "# define radia viewer\n",
    "rv = radia_viewer.RadiaViewer()"
   ]
  },
  {
   "cell_type": "code",
   "execution_count": null,
   "id": "9b608adc-c3f7-4381-9e98-6ea5d2f7c302",
   "metadata": {},
   "outputs": [],
   "source": [
    "# Copy ivu args\n",
    "myivu18args = copy.copy(ivu18args)\n",
    "\n",
    "# Conversion factors\n",
    "TMM2GCM = 1e3\n",
    "\n",
    "# default is just variable name unless name added/defined\n",
    "name = None\n",
    "\n",
    "\n",
    "myivu18args.update({\n",
    "    'nhalfperiods': 3,\n",
    "    'pole_chamfer_longedge': 0.3,\n",
    "    'pole_chamfer_shortedge': 5.0,\n",
    "    'pole_body_divisions': [6, [7, 5], 4],\n",
    "    'pole_tip_divisions': [5, [8, 6], 7],\n",
    "\n",
    "    'magnet_chamfer_gapside': 0.3,\n",
    "    'magnet_chamfer_outerside': 0.5,\n",
    "    'magnet_chamfer_outerside': 0.5,\n",
    "    'magnet_divisions': [3, 5, 5],\n",
    "\n",
    "})\n",
    "if False:\n",
    "    myivu18args.update({\n",
    "        'pole_body_divisions': [1, 1, 1],\n",
    "        'pole_tip_divisions': [1, 1, 1],\n",
    "        'magnet_divisions': [1, 1, 1],\n",
    "    })\n",
    "\n",
    "undulator = ri.get_ivu(**myivu18args)\n"
   ]
  },
  {
   "cell_type": "code",
   "execution_count": null,
   "id": "63329389-799a-4667-982d-edc2f16ec721",
   "metadata": {},
   "outputs": [],
   "source": [
    "myivu18args"
   ]
  },
  {
   "cell_type": "code",
   "execution_count": null,
   "id": "6d7b68b2-ea93-4dfa-a8ec-631fdaf908db",
   "metadata": {},
   "outputs": [],
   "source": [
    "rv.add_geometry('und', undulator)\n",
    "rv.display()"
   ]
  },
  {
   "cell_type": "code",
   "execution_count": null,
   "id": "32821556-c302-4a20-9ff0-3452fd19bc3e",
   "metadata": {},
   "outputs": [],
   "source": [
    "rad.Solve(undulator, 0.0003, 2000)"
   ]
  },
  {
   "cell_type": "code",
   "execution_count": null,
   "id": "fee6141d-d337-405a-b07e-80a64327948c",
   "metadata": {},
   "outputs": [],
   "source": [
    "PERIOD = ivu18args['period']\n",
    "NHALFPERIODS = ivu18args['nhalfperiods']\n",
    "\n",
    "# Full undulator\n",
    "Z = np.linspace(-1.7*PERIOD*NHALFPERIODS/4, 1.7*PERIOD*NHALFPERIODS/4, 1001)\n",
    "B = [rad.Fld(undulator, 'b', [0, 0, z]) for z in Z]\n",
    "\n",
    "# Just part to take effective field from\n",
    "zstart = -PERIOD + PERIOD * NHALFPERIODS%4/4\n",
    "zstop = zstart + 2 * PERIOD\n",
    "\n",
    "# Show full field and where effective field is taken from\n",
    "plt.figure()\n",
    "plt.title(f'Undulator Magnetic Field')\n",
    "plt.xlabel('Z (mm)')\n",
    "plt.ylabel('Magnetic Field (T)')\n",
    "plt.plot(Z, [b[0] for b in B], label='Bx')\n",
    "plt.plot(Z, [b[1] for b in B], label='By')\n",
    "plt.plot(Z, [b[2] for b in B], label='Bz')\n",
    "mymax=[max([np.abs(b[i]) for b in B]) for i in range(3)]\n",
    "plt.axhline(+mymax[1], linestyle='--', color='tab:cyan', label=f'$\\\\pm$ {round(mymax[1], 2)}')\n",
    "plt.axhline(-mymax[1], linestyle='--', color='tab:cyan')\n",
    "plt.axvline(zstart, color='tab:purple', linestyle='-.', linewidth=1, label='$B_{eff}$ Region')\n",
    "plt.axvline(zstop, color='tab:purple', linestyle='-.', linewidth=1)\n",
    "plt.legend()\n",
    "plt.tight_layout()\n",
    "plt.show()\n",
    "\n",
    "Z2P = np.linspace(zstart, zstop, 5001)\n",
    "B2P = [rad.Fld(undulator, 'b', [0, 0, z]) for z in Z2P]\n",
    "ByEffMag = ru.get_beff(Z2P, [b[1] for b in B2P], 2)\n",
    "ByEff = [-ByEffMag*np.sin(2*np.pi/PERIOD * z + 2*np.pi*(NHALFPERIODS%4/4)) for z in Z2P]\n",
    "plt.figure()\n",
    "plt.title(f'Undulator Magnetic Field')\n",
    "plt.xlabel('Z (mm)')\n",
    "plt.ylabel('Magnetic Field (T)')\n",
    "plt.plot(Z2P, [b[0] for b in B2P], label='Bx')\n",
    "plt.plot(Z2P, [b[1] for b in B2P], label='By')\n",
    "plt.plot(Z2P, [b[2] for b in B2P], label='Bz')\n",
    "plt.plot(Z2P, ByEff, '--', label='$By_{eff}$ = ' + f'{round(ByEffMag, 2)}')\n",
    "plt.legend()\n",
    "plt.grid()\n",
    "plt.show()\n",
    "\n",
    "print('Keff', 0.09336*ByEffMag*PERIOD)"
   ]
  },
  {
   "cell_type": "code",
   "execution_count": null,
   "id": "80f78c55-43fa-42fe-81f8-7663e19cc7ae",
   "metadata": {},
   "outputs": [],
   "source": []
  },
  {
   "cell_type": "code",
   "execution_count": null,
   "id": "2d3d4d12-7ed7-4008-b60c-a84cfab12429",
   "metadata": {},
   "outputs": [],
   "source": [
    "epsilon_y = 30e-12\n",
    "beta0_y = 1.1\n",
    "\n",
    "L = 3/2\n",
    "GAP = 5e-3\n",
    "\n",
    "beta_y = beta0_y + L**2 / beta0_y\n",
    "sigma_y = np.sqrt(epsilon_y * beta_y)\n",
    "\n",
    "nsigma = GAP/sigma_y\n",
    "print(f'sigma_y {sigma_y}, nsigma {nsigma}')"
   ]
  },
  {
   "cell_type": "code",
   "execution_count": null,
   "id": "b55b8ec1-b5ed-4efb-8b5f-2f12c2695e41",
   "metadata": {},
   "outputs": [],
   "source": [
    "L = 2.4/2\n",
    "\n",
    "beta_y = beta0_y + L**2 / beta0_y\n",
    "sigma_y = np.sqrt(epsilon_y * beta_y)\n",
    "\n",
    "minaper = nsigma * sigma_y\n",
    "print(f'sigma_y {sigma_y}, minaper {minaper}')"
   ]
  },
  {
   "cell_type": "code",
   "execution_count": null,
   "id": "1a2b3c3f-aaba-4293-80bc-80d779e7270c",
   "metadata": {},
   "outputs": [],
   "source": [
    "0.09336*1.21*18"
   ]
  },
  {
   "cell_type": "code",
   "execution_count": null,
   "id": "1fd00e82-30c9-446b-acf9-d26d3190d95e",
   "metadata": {},
   "outputs": [],
   "source": []
  }
 ],
 "metadata": {
  "kernelspec": {
   "display_name": "Python 3.9.1 (Default)",
   "language": "python",
   "name": "python3"
  },
  "language_info": {
   "codemirror_mode": {
    "name": "ipython",
    "version": 3
   },
   "file_extension": ".py",
   "mimetype": "text/x-python",
   "name": "python",
   "nbconvert_exporter": "python",
   "pygments_lexer": "ipython3",
   "version": "3.9.1"
  }
 },
 "nbformat": 4,
 "nbformat_minor": 5
}
